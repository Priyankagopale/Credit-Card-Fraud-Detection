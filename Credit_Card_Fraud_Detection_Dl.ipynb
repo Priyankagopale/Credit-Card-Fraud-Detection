{
  "cells": [
    {
      "cell_type": "code",
      "execution_count": null,
      "metadata": {
        "id": "o5PJWLRXi3qo"
      },
      "outputs": [],
      "source": [
        "# Import library\n",
        "import tensorflow as tf\n",
        "import pandas as pd\n",
        "import numpy as np\n",
        "import matplotlib.pyplot as plt\n",
        "import seaborn as sns\n",
        "import warnings\n",
        "warnings.filterwarnings('ignore') "
      ]
    },
    {
      "cell_type": "code",
      "execution_count": null,
      "metadata": {
        "id": "R6ZV9wh1jQYM"
      },
      "outputs": [],
      "source": [
        "# load dataset\n",
        "df=pd.read_csv('/content/drive/MyDrive/dl_lecture/creditcard.csv')"
      ]
    },
    {
      "cell_type": "code",
      "execution_count": null,
      "metadata": {
        "colab": {
          "base_uri": "https://localhost:8080/",
          "height": 300
        },
        "id": "EFdrG5imjQdu",
        "outputId": "3c669874-b63f-43b4-d586-71af24df6edf"
      },
      "outputs": [
        {
          "data": {
            "text/html": [
              "\n",
              "  <div id=\"df-75e750cf-61f7-4f01-bc41-51afb5d667b2\">\n",
              "    <div class=\"colab-df-container\">\n",
              "      <div>\n",
              "<style scoped>\n",
              "    .dataframe tbody tr th:only-of-type {\n",
              "        vertical-align: middle;\n",
              "    }\n",
              "\n",
              "    .dataframe tbody tr th {\n",
              "        vertical-align: top;\n",
              "    }\n",
              "\n",
              "    .dataframe thead th {\n",
              "        text-align: right;\n",
              "    }\n",
              "</style>\n",
              "<table border=\"1\" class=\"dataframe\">\n",
              "  <thead>\n",
              "    <tr style=\"text-align: right;\">\n",
              "      <th></th>\n",
              "      <th>Time</th>\n",
              "      <th>V1</th>\n",
              "      <th>V2</th>\n",
              "      <th>V3</th>\n",
              "      <th>V4</th>\n",
              "      <th>V5</th>\n",
              "      <th>V6</th>\n",
              "      <th>V7</th>\n",
              "      <th>V8</th>\n",
              "      <th>V9</th>\n",
              "      <th>...</th>\n",
              "      <th>V21</th>\n",
              "      <th>V22</th>\n",
              "      <th>V23</th>\n",
              "      <th>V24</th>\n",
              "      <th>V25</th>\n",
              "      <th>V26</th>\n",
              "      <th>V27</th>\n",
              "      <th>V28</th>\n",
              "      <th>Amount</th>\n",
              "      <th>Class</th>\n",
              "    </tr>\n",
              "  </thead>\n",
              "  <tbody>\n",
              "    <tr>\n",
              "      <th>0</th>\n",
              "      <td>0.0</td>\n",
              "      <td>-1.359807</td>\n",
              "      <td>-0.072781</td>\n",
              "      <td>2.536347</td>\n",
              "      <td>1.378155</td>\n",
              "      <td>-0.338321</td>\n",
              "      <td>0.462388</td>\n",
              "      <td>0.239599</td>\n",
              "      <td>0.098698</td>\n",
              "      <td>0.363787</td>\n",
              "      <td>...</td>\n",
              "      <td>-0.018307</td>\n",
              "      <td>0.277838</td>\n",
              "      <td>-0.110474</td>\n",
              "      <td>0.066928</td>\n",
              "      <td>0.128539</td>\n",
              "      <td>-0.189115</td>\n",
              "      <td>0.133558</td>\n",
              "      <td>-0.021053</td>\n",
              "      <td>149.62</td>\n",
              "      <td>0</td>\n",
              "    </tr>\n",
              "    <tr>\n",
              "      <th>1</th>\n",
              "      <td>0.0</td>\n",
              "      <td>1.191857</td>\n",
              "      <td>0.266151</td>\n",
              "      <td>0.166480</td>\n",
              "      <td>0.448154</td>\n",
              "      <td>0.060018</td>\n",
              "      <td>-0.082361</td>\n",
              "      <td>-0.078803</td>\n",
              "      <td>0.085102</td>\n",
              "      <td>-0.255425</td>\n",
              "      <td>...</td>\n",
              "      <td>-0.225775</td>\n",
              "      <td>-0.638672</td>\n",
              "      <td>0.101288</td>\n",
              "      <td>-0.339846</td>\n",
              "      <td>0.167170</td>\n",
              "      <td>0.125895</td>\n",
              "      <td>-0.008983</td>\n",
              "      <td>0.014724</td>\n",
              "      <td>2.69</td>\n",
              "      <td>0</td>\n",
              "    </tr>\n",
              "    <tr>\n",
              "      <th>2</th>\n",
              "      <td>1.0</td>\n",
              "      <td>-1.358354</td>\n",
              "      <td>-1.340163</td>\n",
              "      <td>1.773209</td>\n",
              "      <td>0.379780</td>\n",
              "      <td>-0.503198</td>\n",
              "      <td>1.800499</td>\n",
              "      <td>0.791461</td>\n",
              "      <td>0.247676</td>\n",
              "      <td>-1.514654</td>\n",
              "      <td>...</td>\n",
              "      <td>0.247998</td>\n",
              "      <td>0.771679</td>\n",
              "      <td>0.909412</td>\n",
              "      <td>-0.689281</td>\n",
              "      <td>-0.327642</td>\n",
              "      <td>-0.139097</td>\n",
              "      <td>-0.055353</td>\n",
              "      <td>-0.059752</td>\n",
              "      <td>378.66</td>\n",
              "      <td>0</td>\n",
              "    </tr>\n",
              "    <tr>\n",
              "      <th>3</th>\n",
              "      <td>1.0</td>\n",
              "      <td>-0.966272</td>\n",
              "      <td>-0.185226</td>\n",
              "      <td>1.792993</td>\n",
              "      <td>-0.863291</td>\n",
              "      <td>-0.010309</td>\n",
              "      <td>1.247203</td>\n",
              "      <td>0.237609</td>\n",
              "      <td>0.377436</td>\n",
              "      <td>-1.387024</td>\n",
              "      <td>...</td>\n",
              "      <td>-0.108300</td>\n",
              "      <td>0.005274</td>\n",
              "      <td>-0.190321</td>\n",
              "      <td>-1.175575</td>\n",
              "      <td>0.647376</td>\n",
              "      <td>-0.221929</td>\n",
              "      <td>0.062723</td>\n",
              "      <td>0.061458</td>\n",
              "      <td>123.50</td>\n",
              "      <td>0</td>\n",
              "    </tr>\n",
              "    <tr>\n",
              "      <th>4</th>\n",
              "      <td>2.0</td>\n",
              "      <td>-1.158233</td>\n",
              "      <td>0.877737</td>\n",
              "      <td>1.548718</td>\n",
              "      <td>0.403034</td>\n",
              "      <td>-0.407193</td>\n",
              "      <td>0.095921</td>\n",
              "      <td>0.592941</td>\n",
              "      <td>-0.270533</td>\n",
              "      <td>0.817739</td>\n",
              "      <td>...</td>\n",
              "      <td>-0.009431</td>\n",
              "      <td>0.798278</td>\n",
              "      <td>-0.137458</td>\n",
              "      <td>0.141267</td>\n",
              "      <td>-0.206010</td>\n",
              "      <td>0.502292</td>\n",
              "      <td>0.219422</td>\n",
              "      <td>0.215153</td>\n",
              "      <td>69.99</td>\n",
              "      <td>0</td>\n",
              "    </tr>\n",
              "  </tbody>\n",
              "</table>\n",
              "<p>5 rows × 31 columns</p>\n",
              "</div>\n",
              "      <button class=\"colab-df-convert\" onclick=\"convertToInteractive('df-75e750cf-61f7-4f01-bc41-51afb5d667b2')\"\n",
              "              title=\"Convert this dataframe to an interactive table.\"\n",
              "              style=\"display:none;\">\n",
              "        \n",
              "  <svg xmlns=\"http://www.w3.org/2000/svg\" height=\"24px\"viewBox=\"0 0 24 24\"\n",
              "       width=\"24px\">\n",
              "    <path d=\"M0 0h24v24H0V0z\" fill=\"none\"/>\n",
              "    <path d=\"M18.56 5.44l.94 2.06.94-2.06 2.06-.94-2.06-.94-.94-2.06-.94 2.06-2.06.94zm-11 1L8.5 8.5l.94-2.06 2.06-.94-2.06-.94L8.5 2.5l-.94 2.06-2.06.94zm10 10l.94 2.06.94-2.06 2.06-.94-2.06-.94-.94-2.06-.94 2.06-2.06.94z\"/><path d=\"M17.41 7.96l-1.37-1.37c-.4-.4-.92-.59-1.43-.59-.52 0-1.04.2-1.43.59L10.3 9.45l-7.72 7.72c-.78.78-.78 2.05 0 2.83L4 21.41c.39.39.9.59 1.41.59.51 0 1.02-.2 1.41-.59l7.78-7.78 2.81-2.81c.8-.78.8-2.07 0-2.86zM5.41 20L4 18.59l7.72-7.72 1.47 1.35L5.41 20z\"/>\n",
              "  </svg>\n",
              "      </button>\n",
              "      \n",
              "  <style>\n",
              "    .colab-df-container {\n",
              "      display:flex;\n",
              "      flex-wrap:wrap;\n",
              "      gap: 12px;\n",
              "    }\n",
              "\n",
              "    .colab-df-convert {\n",
              "      background-color: #E8F0FE;\n",
              "      border: none;\n",
              "      border-radius: 50%;\n",
              "      cursor: pointer;\n",
              "      display: none;\n",
              "      fill: #1967D2;\n",
              "      height: 32px;\n",
              "      padding: 0 0 0 0;\n",
              "      width: 32px;\n",
              "    }\n",
              "\n",
              "    .colab-df-convert:hover {\n",
              "      background-color: #E2EBFA;\n",
              "      box-shadow: 0px 1px 2px rgba(60, 64, 67, 0.3), 0px 1px 3px 1px rgba(60, 64, 67, 0.15);\n",
              "      fill: #174EA6;\n",
              "    }\n",
              "\n",
              "    [theme=dark] .colab-df-convert {\n",
              "      background-color: #3B4455;\n",
              "      fill: #D2E3FC;\n",
              "    }\n",
              "\n",
              "    [theme=dark] .colab-df-convert:hover {\n",
              "      background-color: #434B5C;\n",
              "      box-shadow: 0px 1px 3px 1px rgba(0, 0, 0, 0.15);\n",
              "      filter: drop-shadow(0px 1px 2px rgba(0, 0, 0, 0.3));\n",
              "      fill: #FFFFFF;\n",
              "    }\n",
              "  </style>\n",
              "\n",
              "      <script>\n",
              "        const buttonEl =\n",
              "          document.querySelector('#df-75e750cf-61f7-4f01-bc41-51afb5d667b2 button.colab-df-convert');\n",
              "        buttonEl.style.display =\n",
              "          google.colab.kernel.accessAllowed ? 'block' : 'none';\n",
              "\n",
              "        async function convertToInteractive(key) {\n",
              "          const element = document.querySelector('#df-75e750cf-61f7-4f01-bc41-51afb5d667b2');\n",
              "          const dataTable =\n",
              "            await google.colab.kernel.invokeFunction('convertToInteractive',\n",
              "                                                     [key], {});\n",
              "          if (!dataTable) return;\n",
              "\n",
              "          const docLinkHtml = 'Like what you see? Visit the ' +\n",
              "            '<a target=\"_blank\" href=https://colab.research.google.com/notebooks/data_table.ipynb>data table notebook</a>'\n",
              "            + ' to learn more about interactive tables.';\n",
              "          element.innerHTML = '';\n",
              "          dataTable['output_type'] = 'display_data';\n",
              "          await google.colab.output.renderOutput(dataTable, element);\n",
              "          const docLink = document.createElement('div');\n",
              "          docLink.innerHTML = docLinkHtml;\n",
              "          element.appendChild(docLink);\n",
              "        }\n",
              "      </script>\n",
              "    </div>\n",
              "  </div>\n",
              "  "
            ],
            "text/plain": [
              "   Time        V1        V2        V3        V4        V5        V6        V7  \\\n",
              "0   0.0 -1.359807 -0.072781  2.536347  1.378155 -0.338321  0.462388  0.239599   \n",
              "1   0.0  1.191857  0.266151  0.166480  0.448154  0.060018 -0.082361 -0.078803   \n",
              "2   1.0 -1.358354 -1.340163  1.773209  0.379780 -0.503198  1.800499  0.791461   \n",
              "3   1.0 -0.966272 -0.185226  1.792993 -0.863291 -0.010309  1.247203  0.237609   \n",
              "4   2.0 -1.158233  0.877737  1.548718  0.403034 -0.407193  0.095921  0.592941   \n",
              "\n",
              "         V8        V9  ...       V21       V22       V23       V24       V25  \\\n",
              "0  0.098698  0.363787  ... -0.018307  0.277838 -0.110474  0.066928  0.128539   \n",
              "1  0.085102 -0.255425  ... -0.225775 -0.638672  0.101288 -0.339846  0.167170   \n",
              "2  0.247676 -1.514654  ...  0.247998  0.771679  0.909412 -0.689281 -0.327642   \n",
              "3  0.377436 -1.387024  ... -0.108300  0.005274 -0.190321 -1.175575  0.647376   \n",
              "4 -0.270533  0.817739  ... -0.009431  0.798278 -0.137458  0.141267 -0.206010   \n",
              "\n",
              "        V26       V27       V28  Amount  Class  \n",
              "0 -0.189115  0.133558 -0.021053  149.62      0  \n",
              "1  0.125895 -0.008983  0.014724    2.69      0  \n",
              "2 -0.139097 -0.055353 -0.059752  378.66      0  \n",
              "3 -0.221929  0.062723  0.061458  123.50      0  \n",
              "4  0.502292  0.219422  0.215153   69.99      0  \n",
              "\n",
              "[5 rows x 31 columns]"
            ]
          },
          "execution_count": 55,
          "metadata": {},
          "output_type": "execute_result"
        }
      ],
      "source": [
        "# displaying first 5 values\n",
        "df.head()"
      ]
    },
    {
      "cell_type": "code",
      "execution_count": null,
      "metadata": {
        "colab": {
          "base_uri": "https://localhost:8080/"
        },
        "id": "JLiKiK4ejQih",
        "outputId": "d9afb273-1b3a-4199-cecf-1270a190e31e"
      },
      "outputs": [
        {
          "data": {
            "text/plain": [
              "(284807, 31)"
            ]
          },
          "execution_count": 56,
          "metadata": {},
          "output_type": "execute_result"
        }
      ],
      "source": [
        "# Checking size of creditcard Dataset\n",
        "df.shape"
      ]
    },
    {
      "cell_type": "code",
      "execution_count": null,
      "metadata": {
        "colab": {
          "base_uri": "https://localhost:8080/"
        },
        "id": "FqEGW03ljQl1",
        "outputId": "70ded46d-4b69-4ff2-e4bc-24112c2ca5d3"
      },
      "outputs": [
        {
          "data": {
            "text/plain": [
              "Time      0\n",
              "V1        0\n",
              "V2        0\n",
              "V3        0\n",
              "V4        0\n",
              "V5        0\n",
              "V6        0\n",
              "V7        0\n",
              "V8        0\n",
              "V9        0\n",
              "V10       0\n",
              "V11       0\n",
              "V12       0\n",
              "V13       0\n",
              "V14       0\n",
              "V15       0\n",
              "V16       0\n",
              "V17       0\n",
              "V18       0\n",
              "V19       0\n",
              "V20       0\n",
              "V21       0\n",
              "V22       0\n",
              "V23       0\n",
              "V24       0\n",
              "V25       0\n",
              "V26       0\n",
              "V27       0\n",
              "V28       0\n",
              "Amount    0\n",
              "Class     0\n",
              "dtype: int64"
            ]
          },
          "execution_count": 57,
          "metadata": {},
          "output_type": "execute_result"
        }
      ],
      "source": [
        "# check null values\n",
        "df.isnull().sum()"
      ]
    },
    {
      "cell_type": "code",
      "execution_count": null,
      "metadata": {
        "colab": {
          "base_uri": "https://localhost:8080/"
        },
        "id": "5veTMjqjjQt_",
        "outputId": "387afdbf-838a-4989-9fcf-f09e6254502f"
      },
      "outputs": [
        {
          "data": {
            "text/plain": [
              "1081"
            ]
          },
          "execution_count": 58,
          "metadata": {},
          "output_type": "execute_result"
        }
      ],
      "source": [
        "# check duplicate values\n",
        "df.duplicated().sum()"
      ]
    },
    {
      "cell_type": "code",
      "execution_count": null,
      "metadata": {
        "id": "ssXq2DiijQxn"
      },
      "outputs": [],
      "source": [
        "# drop duplicates value permanently\n",
        "df.drop_duplicates(inplace=True)"
      ]
    },
    {
      "cell_type": "code",
      "execution_count": null,
      "metadata": {
        "colab": {
          "base_uri": "https://localhost:8080/"
        },
        "id": "G8_3sIvOjQ1x",
        "outputId": "33554b54-7a67-4f04-84ca-ae9d2935a8a1"
      },
      "outputs": [
        {
          "data": {
            "text/plain": [
              "0"
            ]
          },
          "execution_count": 60,
          "metadata": {},
          "output_type": "execute_result"
        }
      ],
      "source": [
        "# check duplicate values\n",
        "df.duplicated().sum()"
      ]
    },
    {
      "cell_type": "code",
      "execution_count": null,
      "metadata": {
        "colab": {
          "base_uri": "https://localhost:8080/"
        },
        "id": "o6P3V5GhjQ5l",
        "outputId": "a511c429-e027-456e-a18d-06a3725ef41e"
      },
      "outputs": [
        {
          "data": {
            "text/plain": [
              "Time      float64\n",
              "V1        float64\n",
              "V2        float64\n",
              "V3        float64\n",
              "V4        float64\n",
              "V5        float64\n",
              "V6        float64\n",
              "V7        float64\n",
              "V8        float64\n",
              "V9        float64\n",
              "V10       float64\n",
              "V11       float64\n",
              "V12       float64\n",
              "V13       float64\n",
              "V14       float64\n",
              "V15       float64\n",
              "V16       float64\n",
              "V17       float64\n",
              "V18       float64\n",
              "V19       float64\n",
              "V20       float64\n",
              "V21       float64\n",
              "V22       float64\n",
              "V23       float64\n",
              "V24       float64\n",
              "V25       float64\n",
              "V26       float64\n",
              "V27       float64\n",
              "V28       float64\n",
              "Amount    float64\n",
              "Class       int64\n",
              "dtype: object"
            ]
          },
          "execution_count": 61,
          "metadata": {},
          "output_type": "execute_result"
        }
      ],
      "source": [
        "#  check  datatypes\n",
        "df.dtypes"
      ]
    },
    {
      "cell_type": "markdown",
      "metadata": {
        "id": "p8vutPfXlXEX"
      },
      "source": [
        "**Select input and output**"
      ]
    },
    {
      "cell_type": "code",
      "execution_count": null,
      "metadata": {
        "id": "cE-I1MUCjQ9d"
      },
      "outputs": [],
      "source": [
        "X=df[['Time','Amount']]\n",
        "Y=df['Class']"
      ]
    },
    {
      "cell_type": "markdown",
      "metadata": {
        "id": "zSrSBSKVlzMQ"
      },
      "source": [
        "**Train Test Split**"
      ]
    },
    {
      "cell_type": "code",
      "execution_count": null,
      "metadata": {
        "id": "f1lPIgRHaMsj"
      },
      "outputs": [],
      "source": [
        "# train test split\n",
        "from sklearn.model_selection import train_test_split\n",
        "x_train,x_test,y_train,y_test=train_test_split(X,Y,test_size=0.3,random_state=1,stratify=Y)"
      ]
    },
    {
      "cell_type": "code",
      "execution_count": null,
      "metadata": {
        "colab": {
          "base_uri": "https://localhost:8080/"
        },
        "id": "o6k1EnsQdDJP",
        "outputId": "a0983993-d3e2-4d3a-9a42-d60901e04566"
      },
      "outputs": [
        {
          "data": {
            "text/plain": [
              "0    283253\n",
              "1       473\n",
              "Name: Class, dtype: int64"
            ]
          },
          "execution_count": 64,
          "metadata": {},
          "output_type": "execute_result"
        }
      ],
      "source": [
        "# Check data is balanced or not\n",
        "df['Class'].value_counts()"
      ]
    },
    {
      "cell_type": "markdown",
      "metadata": {
        "id": "ApPZr8RooA_6"
      },
      "source": [
        "#- Conclusion.\n",
        "**From the above value_counts of 'Class' Column and from the Graph\n",
        "There are about: '283253' Transactions out of which '473' were Fraud\n",
        "Which means the Data is not properly distributed**"
      ]
    },
    {
      "cell_type": "markdown",
      "metadata": {
        "id": "Zs-2hrERogD5"
      },
      "source": [
        "**Apply RandomOverSampler to make data equal**"
      ]
    },
    {
      "cell_type": "code",
      "execution_count": null,
      "metadata": {
        "id": "MyDuGk5vdDTA"
      },
      "outputs": [],
      "source": [
        "from imblearn.over_sampling import RandomOverSampler"
      ]
    },
    {
      "cell_type": "code",
      "execution_count": null,
      "metadata": {
        "colab": {
          "base_uri": "https://localhost:8080/"
        },
        "id": "A1KWcIWqdDYJ",
        "outputId": "82cbadf4-af3d-498f-f340-12f79346123d"
      },
      "outputs": [
        {
          "data": {
            "text/plain": [
              "0    198277\n",
              "1       331\n",
              "Name: Class, dtype: int64"
            ]
          },
          "execution_count": 66,
          "metadata": {},
          "output_type": "execute_result"
        }
      ],
      "source": [
        "# how many samples of 0 and 1 class in y_train\n",
        "y_train.value_counts()"
      ]
    },
    {
      "cell_type": "code",
      "execution_count": null,
      "metadata": {
        "id": "W2UdoscleCu6"
      },
      "outputs": [],
      "source": [
        "# apply randomoversampler\n",
        "# create object of randomoversampler class\n",
        "ros=RandomOverSampler(random_state=1)"
      ]
    },
    {
      "cell_type": "code",
      "execution_count": null,
      "metadata": {
        "id": "jXhD6fALeC12"
      },
      "outputs": [],
      "source": [
        "# use inbuilt method fit_resample() of randomoversampler class\n",
        "x_train_ros,y_train_ros=ros.fit_resample(x_train,y_train)"
      ]
    },
    {
      "cell_type": "code",
      "execution_count": null,
      "metadata": {
        "colab": {
          "base_uri": "https://localhost:8080/"
        },
        "id": "ojpWP0_feC8B",
        "outputId": "7e5c0aaf-1432-4c9b-fac8-7052b303797e"
      },
      "outputs": [
        {
          "data": {
            "text/plain": [
              "0    198277\n",
              "1    198277\n",
              "Name: Class, dtype: int64"
            ]
          },
          "execution_count": 69,
          "metadata": {},
          "output_type": "execute_result"
        }
      ],
      "source": [
        "# check \n",
        "y_train_ros.value_counts()"
      ]
    },
    {
      "cell_type": "code",
      "execution_count": null,
      "metadata": {
        "colab": {
          "base_uri": "https://localhost:8080/"
        },
        "id": "_SArQwVveDCu",
        "outputId": "fd2e5120-c650-4210-b313-69b2566cabdc"
      },
      "outputs": [
        {
          "data": {
            "text/plain": [
              "0    84976\n",
              "1      142\n",
              "Name: Class, dtype: int64"
            ]
          },
          "execution_count": 70,
          "metadata": {},
          "output_type": "execute_result"
        }
      ],
      "source": [
        "# apply testing data ,but first check\n",
        "y_test.value_counts()"
      ]
    },
    {
      "cell_type": "code",
      "execution_count": null,
      "metadata": {
        "id": "UElOdwbMeDJO"
      },
      "outputs": [],
      "source": [
        "# apply randomvesampler on testing data\n",
        "x_test_ros,y_test_ros=ros.fit_resample(x_test,y_test)"
      ]
    },
    {
      "cell_type": "code",
      "execution_count": null,
      "metadata": {
        "colab": {
          "base_uri": "https://localhost:8080/"
        },
        "id": "ETtayt6edDc4",
        "outputId": "c55d472a-9943-4ed7-8c8c-db2a4702170c"
      },
      "outputs": [
        {
          "data": {
            "text/plain": [
              "0    84976\n",
              "1    84976\n",
              "Name: Class, dtype: int64"
            ]
          },
          "execution_count": 72,
          "metadata": {},
          "output_type": "execute_result"
        }
      ],
      "source": [
        "y_test_ros.value_counts()"
      ]
    },
    {
      "cell_type": "code",
      "execution_count": null,
      "metadata": {
        "id": "T9xiLXOwfOi9"
      },
      "outputs": [],
      "source": [
        "# now we can see data is balanced"
      ]
    },
    {
      "cell_type": "code",
      "execution_count": null,
      "metadata": {
        "id": "7axSb6FAeplk"
      },
      "outputs": [],
      "source": [
        "#  Now Apply standardscaler  "
      ]
    },
    {
      "cell_type": "code",
      "execution_count": null,
      "metadata": {
        "id": "bAd7eD0Kepqq"
      },
      "outputs": [],
      "source": [
        "from sklearn.preprocessing import StandardScaler\n",
        "ss=StandardScaler()\n",
        "x_train=ss.fit_transform(x_train_ros)\n",
        "x_test=ss.transform(x_test_ros)"
      ]
    },
    {
      "cell_type": "code",
      "execution_count": null,
      "metadata": {
        "colab": {
          "base_uri": "https://localhost:8080/"
        },
        "id": "DMMKxBW3f4Kk",
        "outputId": "9c872c16-23ae-4e29-f389-5295273d8814"
      },
      "outputs": [
        {
          "data": {
            "text/plain": [
              "(283726, 31)"
            ]
          },
          "execution_count": 76,
          "metadata": {},
          "output_type": "execute_result"
        }
      ],
      "source": [
        "# check no. of rows and columns\n",
        "df.shape"
      ]
    },
    {
      "cell_type": "markdown",
      "metadata": {
        "id": "Y1eBblV_tfJK"
      },
      "source": [
        "**# Create architecture of neural network**"
      ]
    },
    {
      "cell_type": "code",
      "execution_count": null,
      "metadata": {
        "id": "gzsmeYoXepvQ"
      },
      "outputs": [],
      "source": [
        "# create architecture of neural network\n",
        "import tensorflow as tf\n",
        "# create object of neural network\n",
        "model=tf.keras.models.Sequential([\n",
        "  tf.keras.layers.Dense(units=2,activation='relu',input_shape=(X.shape[1],)),\n",
        "  # tf.keras.layers.Dropout(0.1), #apply dropout on 1st hidden layer\n",
        "  tf.keras.layers.Dense(units=2,activation='relu'),\n",
        "  # tf.keras.layers.Dropout(0.1),#2nd hidden layer\n",
        "  tf.keras.layers.Dense(units=1,activation='sigmoid')\n",
        "])"
      ]
    },
    {
      "cell_type": "code",
      "execution_count": null,
      "metadata": {
        "colab": {
          "base_uri": "https://localhost:8080/"
        },
        "id": "QzNtKCqyfzHu",
        "outputId": "64c3c13f-f51c-4dee-b396-88515cb0de5c"
      },
      "outputs": [
        {
          "name": "stdout",
          "output_type": "stream",
          "text": [
            "Model: \"sequential_2\"\n",
            "_________________________________________________________________\n",
            " Layer (type)                Output Shape              Param #   \n",
            "=================================================================\n",
            " dense_6 (Dense)             (None, 2)                 6         \n",
            "                                                                 \n",
            " dense_7 (Dense)             (None, 2)                 6         \n",
            "                                                                 \n",
            " dense_8 (Dense)             (None, 1)                 3         \n",
            "                                                                 \n",
            "=================================================================\n",
            "Total params: 15\n",
            "Trainable params: 15\n",
            "Non-trainable params: 0\n",
            "_________________________________________________________________\n"
          ]
        }
      ],
      "source": [
        "# check summary\n",
        "model.summary()"
      ]
    },
    {
      "cell_type": "code",
      "execution_count": null,
      "metadata": {
        "id": "FxMtETqjfzNx"
      },
      "outputs": [],
      "source": [
        "# compile the model \n",
        "# inbuilt method compile() of sequential class\n",
        "model.compile(optimizer='adam',loss='binary_crossentropy',metrics=['accuracy'])"
      ]
    },
    {
      "cell_type": "code",
      "execution_count": null,
      "metadata": {
        "id": "Q4WQ_f2vfzSY"
      },
      "outputs": [],
      "source": [
        "# create a procedure for callback(earlystoping)\n",
        "#Early Stopping : \n",
        "#EarlyStopping : for decide epoch\n",
        "#create a procedure for callback \n",
        "from tensorflow.keras.callbacks import EarlyStopping             \n",
        "#create callback : -\n",
        "#EarlyStopping() inbuilt function\n",
        "cb=EarlyStopping(\n",
        "    monitor=\"val_loss\",  #val_loss means testing error\n",
        "    min_delta=0.0001, #value of lambda \n",
        "    patience=12,\n",
        "    verbose=1,\n",
        "    mode=\"auto\", #min loss \n",
        "    baseline=None,\n",
        "    restore_best_weights=False\n",
        ")"
      ]
    },
    {
      "cell_type": "code",
      "execution_count": null,
      "metadata": {
        "colab": {
          "base_uri": "https://localhost:8080/"
        },
        "id": "_Mau3q-XfzYs",
        "outputId": "bd3698c9-3228-4b98-ca8a-4b8691aea1cf"
      },
      "outputs": [
        {
          "name": "stdout",
          "output_type": "stream",
          "text": [
            "Epoch 1/1000\n",
            "635/635 [==============================] - 2s 2ms/step - loss: 0.6720 - accuracy: 0.6250 - val_loss: 0.9230 - val_accuracy: 0.0000e+00\n",
            "Epoch 2/1000\n",
            "635/635 [==============================] - 1s 2ms/step - loss: 0.6618 - accuracy: 0.6250 - val_loss: 0.9789 - val_accuracy: 0.0000e+00\n",
            "Epoch 3/1000\n",
            "635/635 [==============================] - 1s 2ms/step - loss: 0.6616 - accuracy: 0.6250 - val_loss: 0.9838 - val_accuracy: 0.0000e+00\n",
            "Epoch 4/1000\n",
            "635/635 [==============================] - 1s 2ms/step - loss: 0.6616 - accuracy: 0.6250 - val_loss: 0.9828 - val_accuracy: 0.0000e+00\n",
            "Epoch 5/1000\n",
            "635/635 [==============================] - 1s 2ms/step - loss: 0.6616 - accuracy: 0.6250 - val_loss: 0.9770 - val_accuracy: 0.0000e+00\n",
            "Epoch 6/1000\n",
            "635/635 [==============================] - 1s 2ms/step - loss: 0.6616 - accuracy: 0.6250 - val_loss: 0.9815 - val_accuracy: 0.0000e+00\n",
            "Epoch 7/1000\n",
            "635/635 [==============================] - 1s 2ms/step - loss: 0.6616 - accuracy: 0.6250 - val_loss: 0.9826 - val_accuracy: 0.0000e+00\n",
            "Epoch 8/1000\n",
            "635/635 [==============================] - 1s 2ms/step - loss: 0.6616 - accuracy: 0.6250 - val_loss: 0.9764 - val_accuracy: 0.0000e+00\n",
            "Epoch 9/1000\n",
            "635/635 [==============================] - 1s 2ms/step - loss: 0.6616 - accuracy: 0.6250 - val_loss: 0.9797 - val_accuracy: 0.0000e+00\n",
            "Epoch 10/1000\n",
            "635/635 [==============================] - 1s 2ms/step - loss: 0.6616 - accuracy: 0.6250 - val_loss: 0.9834 - val_accuracy: 0.0000e+00\n",
            "Epoch 11/1000\n",
            "635/635 [==============================] - 1s 2ms/step - loss: 0.6616 - accuracy: 0.6250 - val_loss: 0.9890 - val_accuracy: 0.0000e+00\n",
            "Epoch 12/1000\n",
            "635/635 [==============================] - 1s 2ms/step - loss: 0.6616 - accuracy: 0.6250 - val_loss: 0.9809 - val_accuracy: 0.0000e+00\n",
            "Epoch 13/1000\n",
            "635/635 [==============================] - 1s 2ms/step - loss: 0.6616 - accuracy: 0.6250 - val_loss: 0.9800 - val_accuracy: 0.0000e+00\n",
            "Epoch 13: early stopping\n"
          ]
        }
      ],
      "source": [
        "# train the model\n",
        "trained_model=model.fit(x_train_ros,y_train_ros,epochs=1000,batch_size=500,\n",
        "                        validation_split=0.2,\n",
        "                        callbacks=cb)\n",
        "# validation_split=0.2 means take 20% data for validattion from x_train,y_train"
      ]
    },
    {
      "cell_type": "code",
      "execution_count": null,
      "metadata": {
        "colab": {
          "base_uri": "https://localhost:8080/"
        },
        "id": "pyEv9BMXfzfA",
        "outputId": "426fd463-cc5c-401a-acea-df3b6792486a"
      },
      "outputs": [
        {
          "name": "stdout",
          "output_type": "stream",
          "text": [
            "12393/12393 [==============================] - 16s 1ms/step - loss: 0.7253 - accuracy: 0.5000\n"
          ]
        },
        {
          "data": {
            "text/plain": [
              "[0.7252541780471802, 0.5]"
            ]
          },
          "execution_count": 80,
          "metadata": {},
          "output_type": "execute_result"
        }
      ],
      "source": [
        "#training loss and training score\n",
        "# model evaluation\n",
        "model.evaluate(x_train_ros,y_train_ros)"
      ]
    },
    {
      "cell_type": "code",
      "execution_count": null,
      "metadata": {
        "colab": {
          "base_uri": "https://localhost:8080/"
        },
        "id": "KhIeBSaZfzjx",
        "outputId": "66f1ec1a-4bbb-4a70-e398-d034932d7db6"
      },
      "outputs": [
        {
          "name": "stdout",
          "output_type": "stream",
          "text": [
            "5311/5311 [==============================] - 11s 2ms/step - loss: 0.7252 - accuracy: 0.5000\n"
          ]
        },
        {
          "data": {
            "text/plain": [
              "[0.7252253293991089, 0.5]"
            ]
          },
          "execution_count": 81,
          "metadata": {},
          "output_type": "execute_result"
        }
      ],
      "source": [
        "# testing loss and testing accuracy\n",
        "model.evaluate(x_test_ros,y_test_ros)"
      ]
    },
    {
      "cell_type": "code",
      "execution_count": null,
      "metadata": {
        "colab": {
          "base_uri": "https://localhost:8080/",
          "height": 266
        },
        "id": "X93HibGdepzd",
        "outputId": "98d23dd8-0048-4246-f25b-2b880c8e93b4"
      },
      "outputs": [
        {
          "data": {
            "image/png": "[encoded data removed]",
            "text/plain": [
              "<Figure size 432x288 with 1 Axes>"
            ]
          },
          "metadata": {},
          "output_type": "display_data"
        }
      ],
      "source": [
        "# visualization\n",
        "plt.plot(trained_model.history['loss'],color='red',label='Training loss')\n",
        "plt.plot(trained_model.history['val_loss'],color='blue',label='Testing loss')\n",
        "plt.legend()\n",
        "plt.show()"
      ]
    },
    {
      "cell_type": "code",
      "execution_count": null,
      "metadata": {
        "colab": {
          "base_uri": "https://localhost:8080/",
          "height": 265
        },
        "id": "-ubXsL_PlcXD",
        "outputId": "96570fde-1a15-47ea-ee60-4566fff629e1"
      },
      "outputs": [
        {
          "data": {
            "image/png": "[encoded data removed]",
            "text/plain": [
              "<Figure size 432x288 with 1 Axes>"
            ]
          },
          "metadata": {},
          "output_type": "display_data"
        }
      ],
      "source": [
        "plt.plot(trained_model.history['accuracy'],color='red',label='Training accuracy')\n",
        "plt.plot(trained_model.history['val_accuracy'],color='blue',label='Testing accuracy')\n",
        "plt.legend()\n",
        "plt.show()"
      ]
    },
    {
      "cell_type": "code",
      "execution_count": null,
      "metadata": {
        "colab": {
          "base_uri": "https://localhost:8080/"
        },
        "id": "bJZU-A9plsUr",
        "outputId": "69068cdf-37e3-45ae-9db4-e1ef24ecc7ae"
      },
      "outputs": [
        {
          "data": {
            "text/plain": [
              "array([[0.3752988],\n",
              "       [0.3752988],\n",
              "       [0.3752988],\n",
              "       ...,\n",
              "       [0.3752988],\n",
              "       [0.3752988],\n",
              "       [0.3752988]], dtype=float32)"
            ]
          },
          "execution_count": 84,
          "metadata": {},
          "output_type": "execute_result"
        }
      ],
      "source": [
        "# testing the model\n",
        "y_pred=model.predict(x_test_ros) #gives the probability value of each class for each row\n",
        "y_pred"
      ]
    },
    {
      "cell_type": "code",
      "execution_count": null,
      "metadata": {
        "colab": {
          "base_uri": "https://localhost:8080/"
        },
        "id": "ERSlQL-hlsaF",
        "outputId": "f733d4d6-d012-4c01-cb01-108f26ef283c"
      },
      "outputs": [
        {
          "data": {
            "text/plain": [
              "array([[0],\n",
              "       [0],\n",
              "       [0],\n",
              "       ...,\n",
              "       [0],\n",
              "       [0],\n",
              "       [0]])"
            ]
          },
          "execution_count": 85,
          "metadata": {},
          "output_type": "execute_result"
        }
      ],
      "source": [
        "y_pred=np.where(y_pred>=0.5,1,0)\n",
        "y_pred"
      ]
    },
    {
      "cell_type": "code",
      "execution_count": null,
      "metadata": {
        "colab": {
          "base_uri": "https://localhost:8080/"
        },
        "id": "qdzMx-tYlseo",
        "outputId": "7ce7548c-01e2-48ab-bb67-b1323bb4e5ee"
      },
      "outputs": [
        {
          "name": "stdout",
          "output_type": "stream",
          "text": [
            "              precision    recall  f1-score   support\n",
            "\n",
            "           0       0.50      1.00      0.67     84976\n",
            "           1       0.00      0.00      0.00     84976\n",
            "\n",
            "    accuracy                           0.50    169952\n",
            "   macro avg       0.25      0.50      0.33    169952\n",
            "weighted avg       0.25      0.50      0.33    169952\n",
            "\n",
            "[[84976     0]\n",
            " [84976     0]]\n"
          ]
        }
      ],
      "source": [
        "from sklearn.metrics import classification_report,confusion_matrix\n",
        "print(classification_report(y_test_ros,y_pred))\n",
        "print(confusion_matrix(y_test_ros,y_pred))"
      ]
    },
    {
      "cell_type": "code",
      "execution_count": null,
      "metadata": {
        "id": "gX-TgAgBlchS"
      },
      "outputs": [],
      "source": [
        "# here clearly,model is overfit why ?\n",
        "# because training score>testing score\n",
        "# means training error<testing error\n",
        "# to reduced overfit,use regularisation technique"
      ]
    },
    {
      "cell_type": "code",
      "execution_count": null,
      "metadata": {
        "id": "-uoFDlQ1Hyv3"
      },
      "outputs": [],
      "source": [
        "#call the class regularizers : inbuilt class\n",
        "from tensorflow.keras import regularizers\n",
        "#regularizers inbuilt class of keras "
      ]
    },
    {
      "cell_type": "code",
      "execution_count": null,
      "metadata": {
        "id": "Ps71vQuMHzHg"
      },
      "outputs": [],
      "source": [
        "model1=tf.keras.Sequential([\n",
        "    #first hidden layer\n",
        "    tf.keras.layers.Dense(units=7,activation='relu',input_shape=(X.shape[1],),\n",
        "            kernel_regularizer=regularizers.l2(0.01)),\n",
        "    #2nd hidden layer #units(neuron)\n",
        "  tf.keras.layers.Dense(units=7,activation='relu',\n",
        "                        kernel_regularizer=regularizers.l2(0.5)),#second hidden layer\n",
        "   #o/p layer\n",
        "  tf.keras.layers.Dense(units=1,activation='sigmoid',\n",
        "                        kernel_regularizer=regularizers.l2(0.5))#output layer\n",
        "])"
      ]
    },
    {
      "cell_type": "code",
      "execution_count": null,
      "metadata": {
        "id": "X6KfbN3RHzMd"
      },
      "outputs": [],
      "source": [
        "#complie the model \n",
        "model1.compile(optimizer='adam',loss='binary_crossentropy',metrics=['accuracy'])"
      ]
    },
    {
      "cell_type": "code",
      "execution_count": null,
      "metadata": {
        "id": "MI4KWf-pRWes"
      },
      "outputs": [],
      "source": [
        "# create a procedure for callback(earlystoping)\n",
        "#Early Stopping : \n",
        "#EarlyStopping : for decide epoch\n",
        "#create a procedure for callback \n",
        "from tensorflow.keras.callbacks import EarlyStopping             \n",
        "#create callback : -\n",
        "#EarlyStopping() inbuilt function\n",
        "cb=EarlyStopping(\n",
        "    monitor=\"val_loss\",  #val_loss means testing error\n",
        "    min_delta=0.00001, #value of lambda \n",
        "    patience=20,\n",
        "    verbose=1,\n",
        "    mode=\"auto\", #min loss \n",
        "    baseline=None,\n",
        "    restore_best_weights=False\n",
        ")"
      ]
    },
    {
      "cell_type": "code",
      "execution_count": null,
      "metadata": {
        "colab": {
          "background_save": true,
          "base_uri": "https://localhost:8080/"
        },
        "id": "To6N0JyJHzRX",
        "outputId": "8f34db35-20fd-44b7-fc2f-b178ba52e5fd"
      },
      "outputs": [
        {
          "name": "stdout",
          "output_type": "stream",
          "text": [
            "Epoch 1/4000\n",
            "3966/3966 [==============================] - 8s 2ms/step - loss: 0.6937 - accuracy: 0.4992 - val_loss: 0.6931 - val_accuracy: 0.5000\n",
            "Epoch 2/4000\n",
            "3966/3966 [==============================] - 8s 2ms/step - loss: 0.6932 - accuracy: 0.4992 - val_loss: 0.6931 - val_accuracy: 0.5000\n",
            "Epoch 3/4000\n",
            "3966/3966 [==============================] - 12s 3ms/step - loss: 0.6932 - accuracy: 0.4995 - val_loss: 0.6932 - val_accuracy: 0.5000\n",
            "Epoch 4/4000\n",
            "3966/3966 [==============================] - 8s 2ms/step - loss: 0.6932 - accuracy: 0.4991 - val_loss: 0.6931 - val_accuracy: 0.5000\n",
            "Epoch 5/4000\n",
            "3966/3966 [==============================] - 9s 2ms/step - loss: 0.6932 - accuracy: 0.5012 - val_loss: 0.6931 - val_accuracy: 0.5000\n",
            "Epoch 6/4000\n",
            "3966/3966 [==============================] - 9s 2ms/step - loss: 0.6932 - accuracy: 0.4991 - val_loss: 0.6931 - val_accuracy: 0.5000\n",
            "Epoch 7/4000\n",
            "3966/3966 [==============================] - 8s 2ms/step - loss: 0.6932 - accuracy: 0.4991 - val_loss: 0.6931 - val_accuracy: 0.5000\n",
            "Epoch 8/4000\n",
            "3966/3966 [==============================] - 9s 2ms/step - loss: 0.6932 - accuracy: 0.4998 - val_loss: 0.6932 - val_accuracy: 0.5000\n",
            "Epoch 9/4000\n",
            "3966/3966 [==============================] - 9s 2ms/step - loss: 0.6932 - accuracy: 0.4995 - val_loss: 0.6932 - val_accuracy: 0.5000\n",
            "Epoch 10/4000\n",
            "3966/3966 [==============================] - 8s 2ms/step - loss: 0.6932 - accuracy: 0.4997 - val_loss: 0.6931 - val_accuracy: 0.5000\n",
            "Epoch 11/4000\n",
            "3966/3966 [==============================] - 9s 2ms/step - loss: 0.6932 - accuracy: 0.4987 - val_loss: 0.6931 - val_accuracy: 0.5000\n",
            "Epoch 12/4000\n",
            "3966/3966 [==============================] - 9s 2ms/step - loss: 0.6932 - accuracy: 0.5004 - val_loss: 0.6932 - val_accuracy: 0.5000\n",
            "Epoch 13/4000\n",
            "3966/3966 [==============================] - 9s 2ms/step - loss: 0.6932 - accuracy: 0.5002 - val_loss: 0.6932 - val_accuracy: 0.5000\n",
            "Epoch 14/4000\n",
            "3966/3966 [==============================] - 9s 2ms/step - loss: 0.6932 - accuracy: 0.4998 - val_loss: 0.6932 - val_accuracy: 0.5000\n",
            "Epoch 15/4000\n",
            "3966/3966 [==============================] - 9s 2ms/step - loss: 0.6932 - accuracy: 0.5000 - val_loss: 0.6932 - val_accuracy: 0.5000\n",
            "Epoch 16/4000\n",
            "3966/3966 [==============================] - 8s 2ms/step - loss: 0.6932 - accuracy: 0.5003 - val_loss: 0.6932 - val_accuracy: 0.5000\n",
            "Epoch 17/4000\n",
            "3966/3966 [==============================] - 8s 2ms/step - loss: 0.6932 - accuracy: 0.4997 - val_loss: 0.6932 - val_accuracy: 0.5000\n",
            "Epoch 18/4000\n",
            "3966/3966 [==============================] - 8s 2ms/step - loss: 0.6932 - accuracy: 0.4986 - val_loss: 0.6932 - val_accuracy: 0.5000\n",
            "Epoch 19/4000\n",
            "3966/3966 [==============================] - 8s 2ms/step - loss: 0.6932 - accuracy: 0.5004 - val_loss: 0.6931 - val_accuracy: 0.5000\n",
            "Epoch 20/4000\n",
            "3966/3966 [==============================] - 9s 2ms/step - loss: 0.6932 - accuracy: 0.4997 - val_loss: 0.6931 - val_accuracy: 0.5000\n",
            "Epoch 21/4000\n",
            "3966/3966 [==============================] - 8s 2ms/step - loss: 0.6932 - accuracy: 0.4996 - val_loss: 0.6931 - val_accuracy: 0.5000\n",
            "Epoch 21: early stopping\n"
          ]
        }
      ],
      "source": [
        "# train the model\n",
        "trained_model1=model.fit(x_train_ros,y_train_ros,epochs=4000,batch_size=100,\n",
        "                        validation_data=(x_test_ros,y_test_ros),\n",
        "                        callbacks=cb)"
      ]
    },
    {
      "cell_type": "code",
      "execution_count": null,
      "metadata": {
        "colab": {
          "background_save": true
        },
        "id": "FPtjwAFeP6x9",
        "outputId": "1bf78a6c-6700-4a15-dc3b-d301684f96f1"
      },
      "outputs": [
        {
          "name": "stdout",
          "output_type": "stream",
          "text": [
            "12393/12393 [==============================] - 16s 1ms/step - loss: 0.6932 - accuracy: 0.5000\n"
          ]
        },
        {
          "data": {
            "text/plain": [
              "[0.6931854486465454, 0.5]"
            ]
          },
          "execution_count": 93,
          "metadata": {},
          "output_type": "execute_result"
        }
      ],
      "source": [
        "#training loss and training score\n",
        "# model evaluation\n",
        "model.evaluate(x_train_ros,y_train_ros)"
      ]
    },
    {
      "cell_type": "code",
      "execution_count": null,
      "metadata": {
        "colab": {
          "background_save": true
        },
        "id": "KMYIXQ8hQDfx",
        "outputId": "d116b094-8d64-4d3f-92ce-8fd4140bb40b"
      },
      "outputs": [
        {
          "name": "stdout",
          "output_type": "stream",
          "text": [
            "5311/5311 [==============================] - 9s 2ms/step - loss: 0.6932 - accuracy: 0.5000\n"
          ]
        },
        {
          "data": {
            "text/plain": [
              "[0.6931840777397156, 0.5]"
            ]
          },
          "execution_count": 94,
          "metadata": {},
          "output_type": "execute_result"
        }
      ],
      "source": [
        "# testing loss and testing accuracy\n",
        "model.evaluate(x_test_ros,y_test_ros)"
      ]
    },
    {
      "cell_type": "code",
      "execution_count": null,
      "metadata": {
        "colab": {
          "background_save": true
        },
        "id": "v07h6NeGHzWR",
        "outputId": "28961805-2b02-43f1-96b6-d35b13134dcb"
      },
      "outputs": [
        {
          "data": {
            "image/png": "[encoded data removed]",
            "text/plain": [
              "<Figure size 432x288 with 1 Axes>"
            ]
          },
          "metadata": {},
          "output_type": "display_data"
        }
      ],
      "source": [
        "# visualization\n",
        "plt.plot(trained_model1.history['loss'],color='red',label='Training loss')\n",
        "plt.plot(trained_model1.history['val_loss'],color='blue',label='Testing loss')\n",
        "plt.legend()\n",
        "plt.show()"
      ]
    },
    {
      "cell_type": "code",
      "execution_count": null,
      "metadata": {
        "colab": {
          "background_save": true
        },
        "id": "LUv2Zr-DHzaz",
        "outputId": "f476f517-1c2d-437c-868d-457ae6595a1e"
      },
      "outputs": [
        {
          "data": {
            "image/png": "[encoded data removed]",
            "text/plain": [
              "<Figure size 432x288 with 1 Axes>"
            ]
          },
          "metadata": {},
          "output_type": "display_data"
        }
      ],
      "source": [
        "plt.plot(trained_model1.history['accuracy'],color='red',label='Training accuracy')\n",
        "plt.plot(trained_model1.history['val_accuracy'],color='blue',label='Testing accuracy')\n",
        "plt.legend()\n",
        "plt.show()"
      ]
    },
    {
      "cell_type": "code",
      "execution_count": null,
      "metadata": {
        "colab": {
          "base_uri": "https://localhost:8080/"
        },
        "id": "93ppP0qOHzfP",
        "outputId": "0e3f4eaa-ac27-4872-9090-e6b5791385d7"
      },
      "outputs": [
        {
          "data": {
            "text/plain": [
              "array([[0.5013064],\n",
              "       [0.5013064],\n",
              "       [0.5013064],\n",
              "       ...,\n",
              "       [0.5013064],\n",
              "       [0.5013064],\n",
              "       [0.5013064]], dtype=float32)"
            ]
          },
          "execution_count": 47,
          "metadata": {},
          "output_type": "execute_result"
        }
      ],
      "source": [
        "# testing the model\n",
        "y_pred=model.predict(x_test_ros) #gives the probability value of each class for each row\n",
        "y_pred"
      ]
    },
    {
      "cell_type": "code",
      "execution_count": null,
      "metadata": {
        "colab": {
          "base_uri": "https://localhost:8080/"
        },
        "id": "QOtDhxioQvNH",
        "outputId": "47bdec51-9394-4c0b-e064-883d05dea6db"
      },
      "outputs": [
        {
          "data": {
            "text/plain": [
              "array([[1],\n",
              "       [1],\n",
              "       [1],\n",
              "       ...,\n",
              "       [1],\n",
              "       [1],\n",
              "       [1]])"
            ]
          },
          "execution_count": 48,
          "metadata": {},
          "output_type": "execute_result"
        }
      ],
      "source": [
        "y_pred=np.where(y_pred>=0.5,1,0)\n",
        "y_pred"
      ]
    },
    {
      "cell_type": "code",
      "execution_count": null,
      "metadata": {
        "colab": {
          "base_uri": "https://localhost:8080/"
        },
        "id": "1Pe0HImOQvSi",
        "outputId": "4f094cb4-7c33-4a53-ddcc-f18f5f3df229"
      },
      "outputs": [
        {
          "name": "stdout",
          "output_type": "stream",
          "text": [
            "              precision    recall  f1-score   support\n",
            "\n",
            "           0       1.00      0.00      0.00     84976\n",
            "           1       0.50      1.00      0.67     84976\n",
            "\n",
            "    accuracy                           0.50    169952\n",
            "   macro avg       0.75      0.50      0.33    169952\n",
            "weighted avg       0.75      0.50      0.33    169952\n",
            "\n",
            "[[   22 84954]\n",
            " [    0 84976]]\n"
          ]
        }
      ],
      "source": [
        "from sklearn.metrics import classification_report,confusion_matrix\n",
        "print(classification_report(y_test_ros,y_pred))\n",
        "print(confusion_matrix(y_test_ros,y_pred))"
      ]
    },
    {
      "cell_type": "code",
      "execution_count": null,
      "metadata": {
        "id": "gX8gLWGPQvWm"
      },
      "outputs": [],
      "source": [
        "# after using regularization on dataset \n",
        "# accuracy decreasing it means this dataset is not overfit\n",
        "# there is no need to use regularizer in this dataset"
      ]
    },
    {
      "cell_type": "code",
      "execution_count": null,
      "metadata": {
        "id": "diHgidqbQvak"
      },
      "outputs": [],
      "source": [
        ""
      ]
    }
  ],
  "metadata": {
    "colab": {
      "collapsed_sections": [],
      "name": "Credit Card Fraud Detection Dl.ipynb",
      "provenance": []
    },
    "kernelspec": {
      "display_name": "Python 3",
      "name": "python3"
    },
    "language_info": {
      "name": "python"
    }
  },
  "nbformat": 4,
  "nbformat_minor": 0
}